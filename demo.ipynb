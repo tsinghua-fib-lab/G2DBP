{
 "cells": [
  {
   "cell_type": "markdown",
   "metadata": {},
   "source": [
    "Before we start, **please make sure you have installed the required packages**."
   ]
  },
  {
   "cell_type": "code",
   "execution_count": 1,
   "metadata": {},
   "outputs": [],
   "source": [
    "import pickle\n",
    "import matplotlib.pyplot as plt\n",
    "import torch\n",
    "from common import BIN_WIDTH,BIN_HEIGHT\n",
    "from loader import Model"
   ]
  },
  {
   "cell_type": "markdown",
   "metadata": {},
   "source": [
    "### 1. Explore the dataset"
   ]
  },
  {
   "cell_type": "code",
   "execution_count": 2,
   "metadata": {},
   "outputs": [],
   "source": [
    "# load the dataset\n",
    "data=pickle.load(open('dataset/G200_test_100.pkl','rb'))"
   ]
  },
  {
   "cell_type": "code",
   "execution_count": 3,
   "metadata": {},
   "outputs": [
    {
     "data": {
      "text/plain": [
       "100"
      ]
     },
     "execution_count": 3,
     "metadata": {},
     "output_type": "execute_result"
    }
   ],
   "source": [
    "# it contains 100 days\n",
    "len(data)"
   ]
  },
  {
   "cell_type": "code",
   "execution_count": 4,
   "metadata": {},
   "outputs": [],
   "source": [
    "# we will only use the first 3 days\n",
    "data=data[:3]"
   ]
  },
  {
   "cell_type": "code",
   "execution_count": 5,
   "metadata": {},
   "outputs": [
    {
     "data": {
      "text/plain": [
       "[197, 261, 279]"
      ]
     },
     "execution_count": 5,
     "metadata": {},
     "output_type": "execute_result"
    }
   ],
   "source": [
    "# each day contains many customer orders\n",
    "[len(i) for i in data]"
   ]
  },
  {
   "cell_type": "code",
   "execution_count": 6,
   "metadata": {},
   "outputs": [
    {
     "name": "stdout",
     "output_type": "stream",
     "text": [
      "[[168, 70], [668, 80], [452, 70], [390, 95], [562, 362], [213, 135], [664, 100], [717, 354], [180, 69], [622, 358]]\n"
     ]
    }
   ],
   "source": [
    "# see the items of Day 1 and customer order 2\n",
    "# it is a list of items\n",
    "order=data[1][2]\n",
    "print(order)"
   ]
  },
  {
   "cell_type": "code",
   "execution_count": 7,
   "metadata": {},
   "outputs": [
    {
     "data": {
      "image/png": "[encoded data removed]",
      "text/plain": [
       "<Figure size 432x288 with 1 Axes>"
      ]
     },
     "metadata": {
      "needs_background": "light"
     },
     "output_type": "display_data"
    }
   ],
   "source": [
    "# visualize\n",
    "x=0\n",
    "for w,h in order:\n",
    "    plt.fill([x,x+w,x+w,x,x],[0,0,h,h,0])\n",
    "    x+=w+20\n",
    "plt.axis('equal')\n",
    "plt.grid()"
   ]
  },
  {
   "cell_type": "markdown",
   "metadata": {},
   "source": [
    "### 2. Load model and optimize"
   ]
  },
  {
   "cell_type": "code",
   "execution_count": 8,
   "metadata": {},
   "outputs": [],
   "source": [
    "# load the models\n",
    "model=Model(\n",
    "    upper_model_path='./pretrained/Upper_200',\n",
    "    lower_model_path='./pretrained/Lower_200',\n",
    "    cuda=0 if torch.cuda.is_available() else -1\n",
    ")"
   ]
  },
  {
   "cell_type": "code",
   "execution_count": 9,
   "metadata": {},
   "outputs": [
    {
     "name": "stderr",
     "output_type": "stream",
     "text": [
      "100%|██████████| 50/50 [00:09<00:00,  5.01it/s]\n"
     ]
    }
   ],
   "source": [
    "# get the optimization results\n",
    "# here we will optimize for 50 steps\n",
    "usages,result=model.optimize(dataset=data,max_parts=200,show_tqdm=True,num_steps=50)"
   ]
  },
  {
   "cell_type": "markdown",
   "metadata": {},
   "source": [
    "### 3. Visualize the results\n",
    "\n",
    "The `usage` variable contains the average bin usage curve during the optimization process"
   ]
  },
  {
   "cell_type": "code",
   "execution_count": 10,
   "metadata": {},
   "outputs": [
    {
     "data": {
      "image/png": "[encoded data removed]",
      "text/plain": [
       "<Figure size 432x288 with 1 Axes>"
      ]
     },
     "metadata": {
      "needs_background": "light"
     },
     "output_type": "display_data"
    }
   ],
   "source": [
    "plt.plot(usages)\n",
    "plt.xlabel('Step')\n",
    "plt.ylabel('Average bin usage')\n",
    "plt.legend([f'Day {i}' for i in range(len(usages[0]))])\n",
    "plt.grid()"
   ]
  },
  {
   "cell_type": "markdown",
   "metadata": {},
   "source": [
    "The `result` variable has the following structure:\n",
    "\n",
    "```python\n",
    "[\n",
    "    # Day 0\n",
    "    [\n",
    "        # Group 0\n",
    "        {\n",
    "            # the index of the orders contained in the group\n",
    "            'order': [0,3,7,9],\n",
    "            # the items contained in this group\n",
    "            'item': [[1,3], [5,7], ...],\n",
    "            # the bin packing plan, given as the position for items\n",
    "            # [bin_id, x, y, w, h]\n",
    "            # (x,y) is the position of the lower left corner of each item\n",
    "            'pos': [[0,0,0,1,3], ...]\n",
    "        },\n",
    "        ...\n",
    "    ],\n",
    "    ...\n",
    "]\n",
    "```"
   ]
  },
  {
   "cell_type": "code",
   "execution_count": 11,
   "metadata": {},
   "outputs": [
    {
     "data": {
      "image/png": "[encoded data removed]",
      "text/plain": [
       "<Figure size 864x216 with 8 Axes>"
      ]
     },
     "metadata": {
      "needs_background": "light"
     },
     "output_type": "display_data"
    }
   ],
   "source": [
    "def visualize(pos,ncol=4):\n",
    "    nrow = (pos[-1][0] + ncol - 1) // ncol\n",
    "    p = -1\n",
    "    for b,x,y,w,h in pos:\n",
    "        if b != p:\n",
    "            p = b\n",
    "            plt.subplot(nrow, ncol, b + 1)\n",
    "            plt.plot([0, BIN_WIDTH, BIN_WIDTH, 0, 0], [0, 0, BIN_HEIGHT, BIN_HEIGHT, 0], 'b', lw=1)\n",
    "            plt.axis('equal')\n",
    "            plt.axis('off')\n",
    "        plt.fill([x, x + w, x + w, x], [y, y, y + h, y + h], lw=0, alpha=0.5)\n",
    "    w = min(3 * ncol, 20)\n",
    "    plt.gcf().set_size_inches(w, w / 2 * nrow / ncol)\n",
    "    plt.tight_layout()\n",
    "    \n",
    "# let's see the bin packing plan for Day 0 group 1\n",
    "visualize(result[0][1]['pos'])"
   ]
  },
  {
   "cell_type": "code",
   "execution_count": null,
   "metadata": {},
   "outputs": [],
   "source": []
  }
 ],
 "metadata": {
  "kernelspec": {
   "display_name": "Python 3",
   "language": "python",
   "name": "python3"
  },
  "language_info": {
   "codemirror_mode": {
    "name": "ipython",
    "version": 3
   },
   "file_extension": ".py",
   "mimetype": "text/x-python",
   "name": "python",
   "nbconvert_exporter": "python",
   "pygments_lexer": "ipython3",
   "version": "3.9.7"
  },
  "orig_nbformat": 4
 },
 "nbformat": 4,
 "nbformat_minor": 2
}
